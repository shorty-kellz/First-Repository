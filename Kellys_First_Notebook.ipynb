{
  "nbformat": 4,
  "nbformat_minor": 0,
  "metadata": {
    "colab": {
      "name": "Kellys First Notebook.ipynb",
      "provenance": [],
      "collapsed_sections": [],
      "authorship_tag": "ABX9TyPBDamv92a43szKOEgza/no",
      "include_colab_link": true
    },
    "kernelspec": {
      "name": "python3",
      "display_name": "Python 3"
    },
    "language_info": {
      "name": "python"
    }
  },
  "cells": [
    {
      "cell_type": "markdown",
      "metadata": {
        "id": "view-in-github",
        "colab_type": "text"
      },
      "source": [
        "<a href=\"https://colab.research.google.com/github/shorty-kellz/First-Repository/blob/main/Kellys_First_Notebook.ipynb\" target=\"_parent\"><img src=\"https://colab.research.google.com/assets/colab-badge.svg\" alt=\"Open In Colab\"/></a>"
      ]
    },
    {
      "cell_type": "markdown",
      "metadata": {
        "id": "uFbcW0KTsryq"
      },
      "source": [
        "# Header Section"
      ]
    },
    {
      "cell_type": "code",
      "metadata": {
        "colab": {
          "base_uri": "https://localhost:8080/"
        },
        "id": "GaJPvKp_pz7R",
        "outputId": "eda9fe9d-1c13-4fa4-f1a8-5afbe8aaeeaf"
      },
      "source": [
        "print(\"hello world\")\n",
        "x = 2\n",
        "print(x)\n",
        "print(\"Testing one more time\")"
      ],
      "execution_count": null,
      "outputs": [
        {
          "output_type": "stream",
          "name": "stdout",
          "text": [
            "hello world\n",
            "2\n",
            "Testing one more time\n"
          ]
        }
      ]
    },
    {
      "cell_type": "markdown",
      "metadata": {
        "id": "KTajfwGPwJ24"
      },
      "source": [
        "## Sub Section "
      ]
    },
    {
      "cell_type": "markdown",
      "metadata": {
        "id": "7J-sbzaQwQwJ"
      },
      "source": [
        "# Section two"
      ]
    },
    {
      "cell_type": "code",
      "metadata": {
        "colab": {
          "base_uri": "https://localhost:8080/"
        },
        "id": "qeCKdorhwiGW",
        "outputId": "a8dbf4ab-423a-4d5d-84e6-641aef74e40b"
      },
      "source": [
        "print(\"this is the second section\")"
      ],
      "execution_count": null,
      "outputs": [
        {
          "output_type": "stream",
          "name": "stdout",
          "text": [
            "this is the second section\n"
          ]
        }
      ]
    }
  ]
}